{
 "cells": [
  {
   "cell_type": "markdown",
   "id": "0a0aa4c0-275a-4d25-b2cf-274ac7a4c731",
   "metadata": {},
   "source": [
    "<h2 align='center' style='color:purple'>Outlier detection and removal using z-score and standard deviation in python pandas</h2>"
   ]
  },
  {
   "cell_type": "code",
   "execution_count": 1,
   "id": "62380d14-59cb-4f45-8772-43fe320d97a2",
   "metadata": {},
   "outputs": [],
   "source": [
    "import pandas as pd\n",
    "import matplotlib.pyplot as plt\n",
    "%matplotlib inline\n",
    "import numpy as np\n",
    "from scipy.stats import norm\n",
    "import matplotlib\n",
    "matplotlib.rcParams['figure.figsize'] = (6, 4)"
   ]
  },
  {
   "cell_type": "code",
   "execution_count": 5,
   "id": "da8c1fe4-ce41-4a19-b778-53837ce8c266",
   "metadata": {},
   "outputs": [
    {
     "data": {
      "text/html": [
       "<div>\n",
       "<style scoped>\n",
       "    .dataframe tbody tr th:only-of-type {\n",
       "        vertical-align: middle;\n",
       "    }\n",
       "\n",
       "    .dataframe tbody tr th {\n",
       "        vertical-align: top;\n",
       "    }\n",
       "\n",
       "    .dataframe thead th {\n",
       "        text-align: right;\n",
       "    }\n",
       "</style>\n",
       "<table border=\"1\" class=\"dataframe\">\n",
       "  <thead>\n",
       "    <tr style=\"text-align: right;\">\n",
       "      <th></th>\n",
       "      <th>gender</th>\n",
       "      <th>height</th>\n",
       "    </tr>\n",
       "  </thead>\n",
       "  <tbody>\n",
       "    <tr>\n",
       "      <th>4516</th>\n",
       "      <td>Male</td>\n",
       "      <td>66.296423</td>\n",
       "    </tr>\n",
       "    <tr>\n",
       "      <th>7777</th>\n",
       "      <td>Female</td>\n",
       "      <td>61.079452</td>\n",
       "    </tr>\n",
       "    <tr>\n",
       "      <th>9540</th>\n",
       "      <td>Female</td>\n",
       "      <td>62.678696</td>\n",
       "    </tr>\n",
       "    <tr>\n",
       "      <th>2115</th>\n",
       "      <td>Male</td>\n",
       "      <td>70.094117</td>\n",
       "    </tr>\n",
       "    <tr>\n",
       "      <th>4929</th>\n",
       "      <td>Male</td>\n",
       "      <td>68.554097</td>\n",
       "    </tr>\n",
       "  </tbody>\n",
       "</table>\n",
       "</div>"
      ],
      "text/plain": [
       "      gender     height\n",
       "4516    Male  66.296423\n",
       "7777  Female  61.079452\n",
       "9540  Female  62.678696\n",
       "2115    Male  70.094117\n",
       "4929    Male  68.554097"
      ]
     },
     "execution_count": 5,
     "metadata": {},
     "output_type": "execute_result"
    }
   ],
   "source": [
    "df = pd.read_csv('heights.csv')\n",
    "df.sample(5)"
   ]
  },
  {
   "cell_type": "code",
   "execution_count": 6,
   "id": "9e9cddab-dfec-46ae-8070-4a2ee59ac6d2",
   "metadata": {},
   "outputs": [
    {
     "data": {
      "text/html": [
       "<div>\n",
       "<style scoped>\n",
       "    .dataframe tbody tr th:only-of-type {\n",
       "        vertical-align: middle;\n",
       "    }\n",
       "\n",
       "    .dataframe tbody tr th {\n",
       "        vertical-align: top;\n",
       "    }\n",
       "\n",
       "    .dataframe thead th {\n",
       "        text-align: right;\n",
       "    }\n",
       "</style>\n",
       "<table border=\"1\" class=\"dataframe\">\n",
       "  <thead>\n",
       "    <tr style=\"text-align: right;\">\n",
       "      <th></th>\n",
       "      <th>height</th>\n",
       "    </tr>\n",
       "  </thead>\n",
       "  <tbody>\n",
       "    <tr>\n",
       "      <th>count</th>\n",
       "      <td>10000.000000</td>\n",
       "    </tr>\n",
       "    <tr>\n",
       "      <th>mean</th>\n",
       "      <td>66.367560</td>\n",
       "    </tr>\n",
       "    <tr>\n",
       "      <th>std</th>\n",
       "      <td>3.847528</td>\n",
       "    </tr>\n",
       "    <tr>\n",
       "      <th>min</th>\n",
       "      <td>54.263133</td>\n",
       "    </tr>\n",
       "    <tr>\n",
       "      <th>25%</th>\n",
       "      <td>63.505620</td>\n",
       "    </tr>\n",
       "    <tr>\n",
       "      <th>50%</th>\n",
       "      <td>66.318070</td>\n",
       "    </tr>\n",
       "    <tr>\n",
       "      <th>75%</th>\n",
       "      <td>69.174262</td>\n",
       "    </tr>\n",
       "    <tr>\n",
       "      <th>max</th>\n",
       "      <td>78.998742</td>\n",
       "    </tr>\n",
       "  </tbody>\n",
       "</table>\n",
       "</div>"
      ],
      "text/plain": [
       "             height\n",
       "count  10000.000000\n",
       "mean      66.367560\n",
       "std        3.847528\n",
       "min       54.263133\n",
       "25%       63.505620\n",
       "50%       66.318070\n",
       "75%       69.174262\n",
       "max       78.998742"
      ]
     },
     "execution_count": 6,
     "metadata": {},
     "output_type": "execute_result"
    }
   ],
   "source": [
    "df.describe()"
   ]
  },
  {
   "cell_type": "markdown",
   "id": "454d22ee-3095-41bd-928e-10a35cefc1a9",
   "metadata": {},
   "source": [
    "**Plot bell curve along with histogram for our dataset**"
   ]
  },
  {
   "cell_type": "code",
   "execution_count": 4,
   "id": "05d4ae85-b25c-4cdc-8478-06c768bd2596",
   "metadata": {},
   "outputs": [
    {
     "data": {
      "text/plain": [
       "[<matplotlib.lines.Line2D at 0x263d630a240>]"
      ]
     },
     "execution_count": 4,
     "metadata": {},
     "output_type": "execute_result"
    },
    {
     "data": {
      "image/png": "[encoded data removed]",
      "text/plain": [
       "<Figure size 600x400 with 1 Axes>"
      ]
     },
     "metadata": {},
     "output_type": "display_data"
    }
   ],
   "source": [
    "plt.hist(df.height, bins=20, rwidth=0.8, density=True)\n",
    "plt.xlabel('Height (inches)')\n",
    "plt.ylabel('Count')\n",
    "\n",
    "rng = np.arange(df.height.min(), df.height.max(), 0.1)\n",
    "plt.plot(rng, norm.pdf(rng, df.height.mean(), df.height.std()))"
   ]
  },
  {
   "cell_type": "markdown",
   "id": "a19b1658-2442-4680-a2c2-efc4ad6261f6",
   "metadata": {},
   "source": [
    "<h3 style='color:blue'>(1) Outlier detection and removal using 3 standard deviation</h3>"
   ]
  },
  {
   "cell_type": "code",
   "execution_count": 7,
   "id": "162fc2c1-0f48-43b3-816c-c1502a6a7d72",
   "metadata": {},
   "outputs": [
    {
     "data": {
      "text/plain": [
       "77.91014411725271"
      ]
     },
     "execution_count": 7,
     "metadata": {},
     "output_type": "execute_result"
    }
   ],
   "source": [
    "upper_limit = df.height.mean() + 3*df.height.std()\n",
    "upper_limit"
   ]
  },
  {
   "cell_type": "code",
   "execution_count": 8,
   "id": "79925398-4315-414a-abcd-d3ed8512b919",
   "metadata": {},
   "outputs": [
    {
     "data": {
      "text/plain": [
       "54.824975392479274"
      ]
     },
     "execution_count": 8,
     "metadata": {},
     "output_type": "execute_result"
    }
   ],
   "source": [
    "lower_limit = df.height.mean() - 3*df.height.std()\n",
    "lower_limit"
   ]
  },
  {
   "cell_type": "code",
   "execution_count": 9,
   "id": "a7236411-e99d-4f0a-836e-36993c901c7d",
   "metadata": {},
   "outputs": [
    {
     "data": {
      "text/html": [
       "<div>\n",
       "<style scoped>\n",
       "    .dataframe tbody tr th:only-of-type {\n",
       "        vertical-align: middle;\n",
       "    }\n",
       "\n",
       "    .dataframe tbody tr th {\n",
       "        vertical-align: top;\n",
       "    }\n",
       "\n",
       "    .dataframe thead th {\n",
       "        text-align: right;\n",
       "    }\n",
       "</style>\n",
       "<table border=\"1\" class=\"dataframe\">\n",
       "  <thead>\n",
       "    <tr style=\"text-align: right;\">\n",
       "      <th></th>\n",
       "      <th>gender</th>\n",
       "      <th>height</th>\n",
       "    </tr>\n",
       "  </thead>\n",
       "  <tbody>\n",
       "    <tr>\n",
       "      <th>994</th>\n",
       "      <td>Male</td>\n",
       "      <td>78.095867</td>\n",
       "    </tr>\n",
       "    <tr>\n",
       "      <th>1317</th>\n",
       "      <td>Male</td>\n",
       "      <td>78.462053</td>\n",
       "    </tr>\n",
       "    <tr>\n",
       "      <th>2014</th>\n",
       "      <td>Male</td>\n",
       "      <td>78.998742</td>\n",
       "    </tr>\n",
       "    <tr>\n",
       "      <th>3285</th>\n",
       "      <td>Male</td>\n",
       "      <td>78.528210</td>\n",
       "    </tr>\n",
       "    <tr>\n",
       "      <th>3757</th>\n",
       "      <td>Male</td>\n",
       "      <td>78.621374</td>\n",
       "    </tr>\n",
       "    <tr>\n",
       "      <th>6624</th>\n",
       "      <td>Female</td>\n",
       "      <td>54.616858</td>\n",
       "    </tr>\n",
       "    <tr>\n",
       "      <th>9285</th>\n",
       "      <td>Female</td>\n",
       "      <td>54.263133</td>\n",
       "    </tr>\n",
       "  </tbody>\n",
       "</table>\n",
       "</div>"
      ],
      "text/plain": [
       "      gender     height\n",
       "994     Male  78.095867\n",
       "1317    Male  78.462053\n",
       "2014    Male  78.998742\n",
       "3285    Male  78.528210\n",
       "3757    Male  78.621374\n",
       "6624  Female  54.616858\n",
       "9285  Female  54.263133"
      ]
     },
     "execution_count": 9,
     "metadata": {},
     "output_type": "execute_result"
    }
   ],
   "source": [
    "df[(df.height < lower_limit) | (df.height > upper_limit)]"
   ]
  },
  {
   "cell_type": "code",
   "execution_count": 10,
   "id": "73f0def1-0b79-4f71-a39d-78ec79d9809f",
   "metadata": {},
   "outputs": [
    {
     "data": {
      "text/plain": [
       "7"
      ]
     },
     "execution_count": 10,
     "metadata": {},
     "output_type": "execute_result"
    }
   ],
   "source": [
    "df_no_outlier_std_dev = df[(df.height > lower_limit) & (df.height < upper_limit)]\n",
    "df.shape[0] - df_no_outlier_std_dev.shape[0]"
   ]
  },
  {
   "cell_type": "markdown",
   "id": "5b9df08c-9f44-4a7d-ab6d-fc3ed38725ad",
   "metadata": {},
   "source": [
    "<h3 style='color:blue'>(2) Outlier detection and removal using Z Score</h3>"
   ]
  },
  {
   "cell_type": "code",
   "execution_count": 11,
   "id": "4f6887e5-86af-4831-86e2-ca2e1bebf053",
   "metadata": {},
   "outputs": [
    {
     "data": {
      "text/html": [
       "<div>\n",
       "<style scoped>\n",
       "    .dataframe tbody tr th:only-of-type {\n",
       "        vertical-align: middle;\n",
       "    }\n",
       "\n",
       "    .dataframe tbody tr th {\n",
       "        vertical-align: top;\n",
       "    }\n",
       "\n",
       "    .dataframe thead th {\n",
       "        text-align: right;\n",
       "    }\n",
       "</style>\n",
       "<table border=\"1\" class=\"dataframe\">\n",
       "  <thead>\n",
       "    <tr style=\"text-align: right;\">\n",
       "      <th></th>\n",
       "      <th>gender</th>\n",
       "      <th>height</th>\n",
       "      <th>zscore</th>\n",
       "    </tr>\n",
       "  </thead>\n",
       "  <tbody>\n",
       "    <tr>\n",
       "      <th>0</th>\n",
       "      <td>Male</td>\n",
       "      <td>73.847017</td>\n",
       "      <td>1.943964</td>\n",
       "    </tr>\n",
       "    <tr>\n",
       "      <th>1</th>\n",
       "      <td>Male</td>\n",
       "      <td>68.781904</td>\n",
       "      <td>0.627505</td>\n",
       "    </tr>\n",
       "    <tr>\n",
       "      <th>2</th>\n",
       "      <td>Male</td>\n",
       "      <td>74.110105</td>\n",
       "      <td>2.012343</td>\n",
       "    </tr>\n",
       "    <tr>\n",
       "      <th>3</th>\n",
       "      <td>Male</td>\n",
       "      <td>71.730978</td>\n",
       "      <td>1.393991</td>\n",
       "    </tr>\n",
       "    <tr>\n",
       "      <th>4</th>\n",
       "      <td>Male</td>\n",
       "      <td>69.881796</td>\n",
       "      <td>0.913375</td>\n",
       "    </tr>\n",
       "  </tbody>\n",
       "</table>\n",
       "</div>"
      ],
      "text/plain": [
       "  gender     height    zscore\n",
       "0   Male  73.847017  1.943964\n",
       "1   Male  68.781904  0.627505\n",
       "2   Male  74.110105  2.012343\n",
       "3   Male  71.730978  1.393991\n",
       "4   Male  69.881796  0.913375"
      ]
     },
     "execution_count": 11,
     "metadata": {},
     "output_type": "execute_result"
    }
   ],
   "source": [
    "df['zscore'] = (df.height - df.height.mean()) / df.height.std()\n",
    "df.head()"
   ]
  },
  {
   "cell_type": "code",
   "execution_count": 12,
   "id": "88c269b3-009c-4f37-9068-83b5978e81cc",
   "metadata": {},
   "outputs": [
    {
     "data": {
      "text/html": [
       "<div>\n",
       "<style scoped>\n",
       "    .dataframe tbody tr th:only-of-type {\n",
       "        vertical-align: middle;\n",
       "    }\n",
       "\n",
       "    .dataframe tbody tr th {\n",
       "        vertical-align: top;\n",
       "    }\n",
       "\n",
       "    .dataframe thead th {\n",
       "        text-align: right;\n",
       "    }\n",
       "</style>\n",
       "<table border=\"1\" class=\"dataframe\">\n",
       "  <thead>\n",
       "    <tr style=\"text-align: right;\">\n",
       "      <th></th>\n",
       "      <th>gender</th>\n",
       "      <th>height</th>\n",
       "      <th>zscore</th>\n",
       "    </tr>\n",
       "  </thead>\n",
       "  <tbody>\n",
       "    <tr>\n",
       "      <th>994</th>\n",
       "      <td>Male</td>\n",
       "      <td>78.095867</td>\n",
       "      <td>3.048271</td>\n",
       "    </tr>\n",
       "    <tr>\n",
       "      <th>1317</th>\n",
       "      <td>Male</td>\n",
       "      <td>78.462053</td>\n",
       "      <td>3.143445</td>\n",
       "    </tr>\n",
       "    <tr>\n",
       "      <th>2014</th>\n",
       "      <td>Male</td>\n",
       "      <td>78.998742</td>\n",
       "      <td>3.282934</td>\n",
       "    </tr>\n",
       "    <tr>\n",
       "      <th>3285</th>\n",
       "      <td>Male</td>\n",
       "      <td>78.528210</td>\n",
       "      <td>3.160640</td>\n",
       "    </tr>\n",
       "    <tr>\n",
       "      <th>3757</th>\n",
       "      <td>Male</td>\n",
       "      <td>78.621374</td>\n",
       "      <td>3.184854</td>\n",
       "    </tr>\n",
       "    <tr>\n",
       "      <th>6624</th>\n",
       "      <td>Female</td>\n",
       "      <td>54.616858</td>\n",
       "      <td>-3.054091</td>\n",
       "    </tr>\n",
       "    <tr>\n",
       "      <th>9285</th>\n",
       "      <td>Female</td>\n",
       "      <td>54.263133</td>\n",
       "      <td>-3.146027</td>\n",
       "    </tr>\n",
       "  </tbody>\n",
       "</table>\n",
       "</div>"
      ],
      "text/plain": [
       "      gender     height    zscore\n",
       "994     Male  78.095867  3.048271\n",
       "1317    Male  78.462053  3.143445\n",
       "2014    Male  78.998742  3.282934\n",
       "3285    Male  78.528210  3.160640\n",
       "3757    Male  78.621374  3.184854\n",
       "6624  Female  54.616858 -3.054091\n",
       "9285  Female  54.263133 -3.146027"
      ]
     },
     "execution_count": 12,
     "metadata": {},
     "output_type": "execute_result"
    }
   ],
   "source": [
    "df[(df.zscore<-3) | (df.zscore>3)]"
   ]
  },
  {
   "cell_type": "code",
   "execution_count": 13,
   "id": "e75c4ded-7c17-444a-80f2-66f6a675d8e4",
   "metadata": {},
   "outputs": [
    {
     "data": {
      "text/html": [
       "<div>\n",
       "<style scoped>\n",
       "    .dataframe tbody tr th:only-of-type {\n",
       "        vertical-align: middle;\n",
       "    }\n",
       "\n",
       "    .dataframe tbody tr th {\n",
       "        vertical-align: top;\n",
       "    }\n",
       "\n",
       "    .dataframe thead th {\n",
       "        text-align: right;\n",
       "    }\n",
       "</style>\n",
       "<table border=\"1\" class=\"dataframe\">\n",
       "  <thead>\n",
       "    <tr style=\"text-align: right;\">\n",
       "      <th></th>\n",
       "      <th>gender</th>\n",
       "      <th>height</th>\n",
       "      <th>zscore</th>\n",
       "    </tr>\n",
       "  </thead>\n",
       "  <tbody>\n",
       "    <tr>\n",
       "      <th>0</th>\n",
       "      <td>Male</td>\n",
       "      <td>73.847017</td>\n",
       "      <td>1.943964</td>\n",
       "    </tr>\n",
       "    <tr>\n",
       "      <th>1</th>\n",
       "      <td>Male</td>\n",
       "      <td>68.781904</td>\n",
       "      <td>0.627505</td>\n",
       "    </tr>\n",
       "    <tr>\n",
       "      <th>2</th>\n",
       "      <td>Male</td>\n",
       "      <td>74.110105</td>\n",
       "      <td>2.012343</td>\n",
       "    </tr>\n",
       "    <tr>\n",
       "      <th>3</th>\n",
       "      <td>Male</td>\n",
       "      <td>71.730978</td>\n",
       "      <td>1.393991</td>\n",
       "    </tr>\n",
       "    <tr>\n",
       "      <th>4</th>\n",
       "      <td>Male</td>\n",
       "      <td>69.881796</td>\n",
       "      <td>0.913375</td>\n",
       "    </tr>\n",
       "  </tbody>\n",
       "</table>\n",
       "</div>"
      ],
      "text/plain": [
       "  gender     height    zscore\n",
       "0   Male  73.847017  1.943964\n",
       "1   Male  68.781904  0.627505\n",
       "2   Male  74.110105  2.012343\n",
       "3   Male  71.730978  1.393991\n",
       "4   Male  69.881796  0.913375"
      ]
     },
     "execution_count": 13,
     "metadata": {},
     "output_type": "execute_result"
    }
   ],
   "source": [
    "df_no_outliers = df[(df.zscore>-3) & (df.zscore<3)]\n",
    "df_no_outliers.head()"
   ]
  },
  {
   "cell_type": "code",
   "execution_count": 14,
   "id": "9403da90-b38a-4727-b6ee-1cff57936e51",
   "metadata": {},
   "outputs": [
    {
     "data": {
      "text/plain": [
       "7"
      ]
     },
     "execution_count": 14,
     "metadata": {},
     "output_type": "execute_result"
    }
   ],
   "source": [
    "df.shape[0] - df_no_outliers.shape[0]"
   ]
  },
  {
   "cell_type": "code",
   "execution_count": null,
   "id": "526bc85d-2ad3-42aa-a206-9ed30fead87c",
   "metadata": {},
   "outputs": [],
   "source": []
  }
 ],
 "metadata": {
  "kernelspec": {
   "display_name": "Python 3 (ipykernel)",
   "language": "python",
   "name": "python3"
  },
  "language_info": {
   "codemirror_mode": {
    "name": "ipython",
    "version": 3
   },
   "file_extension": ".py",
   "mimetype": "text/x-python",
   "name": "python",
   "nbconvert_exporter": "python",
   "pygments_lexer": "ipython3",
   "version": "3.12.1"
  }
 },
 "nbformat": 4,
 "nbformat_minor": 5
}
