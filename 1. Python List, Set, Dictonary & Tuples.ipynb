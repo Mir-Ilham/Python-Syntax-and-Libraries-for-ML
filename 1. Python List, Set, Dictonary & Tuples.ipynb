{
 "cells": [
  {
   "cell_type": "markdown",
   "id": "959fcfce-e199-4bd4-8355-9bd174e5891a",
   "metadata": {},
   "source": [
    "# Python List, Set, Dictionary and Tuples"
   ]
  },
  {
   "cell_type": "markdown",
   "id": "598309f2-48c3-43ff-875b-e151d24d8eb7",
   "metadata": {},
   "source": [
    "## Lists"
   ]
  },
  {
   "cell_type": "code",
   "execution_count": 1,
   "id": "27512d19-4f7f-4b76-a69d-c059b87dadd5",
   "metadata": {},
   "outputs": [],
   "source": [
    "list = [\"Mir Ilham\", 25, True, 2500.0]"
   ]
  },
  {
   "cell_type": "code",
   "execution_count": 2,
   "id": "29e2d0ce-e2ee-41f5-8d19-16bd8cd441cc",
   "metadata": {},
   "outputs": [
    {
     "data": {
      "text/plain": [
       "['Mir Ilham', 25, True, 2500.0, 'Male']"
      ]
     },
     "execution_count": 2,
     "metadata": {},
     "output_type": "execute_result"
    }
   ],
   "source": [
    "list.append(\"Male\")\n",
    "list"
   ]
  },
  {
   "cell_type": "code",
   "execution_count": 3,
   "id": "7a98bb6a-9002-43ff-b7b3-cb48a51d9763",
   "metadata": {},
   "outputs": [
    {
     "data": {
      "text/plain": [
       "['Mir Ilham', 25, True, 2500.0, 'Male', 'Biography', 101]"
      ]
     },
     "execution_count": 3,
     "metadata": {},
     "output_type": "execute_result"
    }
   ],
   "source": [
    "list.extend([\"Biography\", 101])\n",
    "list"
   ]
  },
  {
   "cell_type": "markdown",
   "id": "c402fd79-2aef-4b1c-9b50-04506676d6b6",
   "metadata": {},
   "source": [
    "## Sets"
   ]
  },
  {
   "cell_type": "code",
   "execution_count": 4,
   "id": "7db77121-7ed7-461c-b414-18d8dfe32092",
   "metadata": {},
   "outputs": [],
   "source": [
    "set = set()"
   ]
  },
  {
   "cell_type": "code",
   "execution_count": 8,
   "id": "f78b1ad1-3091-4b91-b0ad-afe2c720d321",
   "metadata": {},
   "outputs": [
    {
     "data": {
      "text/plain": [
       "{1, 2, 3}"
      ]
     },
     "execution_count": 8,
     "metadata": {},
     "output_type": "execute_result"
    }
   ],
   "source": [
    "set.add(1)\n",
    "set.add(2)\n",
    "set.add(3)\n",
    "set"
   ]
  },
  {
   "cell_type": "code",
   "execution_count": 9,
   "id": "5d1372b9-6047-4037-aa2f-a9d483c41765",
   "metadata": {},
   "outputs": [
    {
     "data": {
      "text/plain": [
       "{1, 2, 3}"
      ]
     },
     "execution_count": 9,
     "metadata": {},
     "output_type": "execute_result"
    }
   ],
   "source": [
    "set.add(3)\n",
    "set"
   ]
  },
  {
   "cell_type": "code",
   "execution_count": 13,
   "id": "3a9a9975-085f-4ad4-bd27-2851eff02d68",
   "metadata": {},
   "outputs": [
    {
     "data": {
      "text/plain": [
       "{'Hasan', 'Ilham', 'Mir'}"
      ]
     },
     "execution_count": 13,
     "metadata": {},
     "output_type": "execute_result"
    }
   ],
   "source": [
    "set = {\"Ilham\", \"Hasan\", \"Ilham\", \"Mir\"}\n",
    "set"
   ]
  },
  {
   "cell_type": "code",
   "execution_count": 14,
   "id": "abc43326-f1a5-46fd-9d45-1007439de3c3",
   "metadata": {},
   "outputs": [
    {
     "name": "stdout",
     "output_type": "stream",
     "text": [
      "Ilham Hasan Mir "
     ]
    }
   ],
   "source": [
    "for item in set:\n",
    "    print(item, end=' ')"
   ]
  },
  {
   "cell_type": "markdown",
   "id": "bced4801-36f1-40e8-953a-3d4be8cdee10",
   "metadata": {},
   "source": [
    "## Dictionaries"
   ]
  },
  {
   "cell_type": "code",
   "execution_count": 15,
   "id": "e1babfd9-7f33-4959-afcf-dfe7b1d04d6f",
   "metadata": {},
   "outputs": [
    {
     "data": {
      "text/plain": [
       "{'Key': 101}"
      ]
     },
     "execution_count": 15,
     "metadata": {},
     "output_type": "execute_result"
    }
   ],
   "source": [
    "dict = dict()\n",
    "dict[\"Key\"] = 101\n",
    "dict"
   ]
  },
  {
   "cell_type": "code",
   "execution_count": 16,
   "id": "aa899afb-0055-43f3-848a-3aeddf99cf98",
   "metadata": {},
   "outputs": [
    {
     "data": {
      "text/plain": [
       "101"
      ]
     },
     "execution_count": 16,
     "metadata": {},
     "output_type": "execute_result"
    }
   ],
   "source": [
    "dict[\"Key\"]"
   ]
  },
  {
   "cell_type": "code",
   "execution_count": 17,
   "id": "abe6ac07-90d6-47ee-b2f2-e0d9a25b2e21",
   "metadata": {},
   "outputs": [],
   "source": [
    "dict = {\"Key1\": 101, \"Key2\": 102, \"Key3\": 103}"
   ]
  },
  {
   "cell_type": "code",
   "execution_count": 18,
   "id": "d77116b9-a3e2-4cea-8261-b637fe115836",
   "metadata": {},
   "outputs": [
    {
     "name": "stdout",
     "output_type": "stream",
     "text": [
      "101 102 103 "
     ]
    }
   ],
   "source": [
    "for key in dict:\n",
    "    print(dict[key], end=' ')"
   ]
  },
  {
   "cell_type": "code",
   "execution_count": 20,
   "id": "724ddcee-a053-4240-ac02-d7639b32b449",
   "metadata": {},
   "outputs": [
    {
     "name": "stdout",
     "output_type": "stream",
     "text": [
      "101 102 103 "
     ]
    }
   ],
   "source": [
    "for value in dict.values():\n",
    "    print(value, end=' ')"
   ]
  },
  {
   "cell_type": "code",
   "execution_count": 21,
   "id": "b47ac858-ac63-4449-b834-185ca565a06c",
   "metadata": {},
   "outputs": [
    {
     "name": "stdout",
     "output_type": "stream",
     "text": [
      "('Key1', 101) ('Key2', 102) ('Key3', 103) "
     ]
    }
   ],
   "source": [
    "for item in dict.items():\n",
    "    print(item, end=' ')"
   ]
  },
  {
   "cell_type": "markdown",
   "id": "b24ae726-b376-4f31-8c8a-61f650cf9a79",
   "metadata": {},
   "source": [
    "## Tuples"
   ]
  },
  {
   "cell_type": "code",
   "execution_count": 26,
   "id": "0e5080a3-c482-46ba-b8dd-45f084773480",
   "metadata": {},
   "outputs": [
    {
     "data": {
      "text/plain": [
       "tuple"
      ]
     },
     "execution_count": 26,
     "metadata": {},
     "output_type": "execute_result"
    }
   ],
   "source": [
    "tup = ()\n",
    "type(tup)"
   ]
  },
  {
   "cell_type": "code",
   "execution_count": null,
   "id": "587caab5-521e-488f-a93c-d75efe152bea",
   "metadata": {},
   "outputs": [],
   "source": [
    "tup = (1, 2, 3)\n"
   ]
  }
 ],
 "metadata": {
  "kernelspec": {
   "display_name": "Python 3 (ipykernel)",
   "language": "python",
   "name": "python3"
  },
  "language_info": {
   "codemirror_mode": {
    "name": "ipython",
    "version": 3
   },
   "file_extension": ".py",
   "mimetype": "text/x-python",
   "name": "python",
   "nbconvert_exporter": "python",
   "pygments_lexer": "ipython3",
   "version": "3.12.1"
  }
 },
 "nbformat": 4,
 "nbformat_minor": 5
}
