{
 "cells": [
  {
   "cell_type": "markdown",
   "id": "e9b25319-6d0b-419d-8825-c6e68ff52293",
   "metadata": {},
   "source": [
    "<h1 style='color:blue;' align='center'>KFold Cross Validation Python Tutorial</h2>"
   ]
  },
  {
   "cell_type": "code",
   "execution_count": 1,
   "id": "a447ca6f-349d-4f47-a352-1aa76ead5e3f",
   "metadata": {},
   "outputs": [],
   "source": [
    "from sklearn.linear_model import LogisticRegression\n",
    "from sklearn.svm import SVC\n",
    "from sklearn.ensemble import RandomForestClassifier\n",
    "import numpy as np\n",
    "from sklearn.datasets import load_digits\n",
    "\n",
    "digits = load_digits()"
   ]
  },
  {
   "cell_type": "code",
   "execution_count": 2,
   "id": "0d65fdd9-5177-45a4-ac78-df6a84e084b7",
   "metadata": {},
   "outputs": [],
   "source": [
    "from sklearn.model_selection import train_test_split\n",
    "X_train, X_test, y_train, y_test = train_test_split(digits.data, digits.target, test_size=0.3)"
   ]
  },
  {
   "cell_type": "code",
   "execution_count": 3,
   "id": "2d494d0b-00b5-4641-95f6-f6b9b89d5cf4",
   "metadata": {},
   "outputs": [],
   "source": [
    "def get_score(model, X_train, X_test, y_train, y_test):\n",
    "    model.fit(X_train, y_train)\n",
    "    return model.score(X_test, y_test)"
   ]
  },
  {
   "cell_type": "markdown",
   "id": "c7900d9a-55a1-4cff-a509-b4965e70e563",
   "metadata": {},
   "source": [
    "<h3>Logistic Regression train-test-split score</h3>"
   ]
  },
  {
   "cell_type": "code",
   "execution_count": 40,
   "id": "60242990-0294-4c9f-b109-fd85d482db37",
   "metadata": {},
   "outputs": [
    {
     "data": {
      "text/plain": [
       "0.9098497495826378"
      ]
     },
     "execution_count": 40,
     "metadata": {},
     "output_type": "execute_result"
    }
   ],
   "source": [
    "get_score(LogisticRegression(solver='liblinear', multi_class='ovr'), X_train, X_test, y_train, y_test)"
   ]
  },
  {
   "cell_type": "markdown",
   "id": "e023408f-4f52-445d-a1f4-7082bcdc28d0",
   "metadata": {},
   "source": [
    "<h3>SVM train-test-split score</h3>"
   ]
  },
  {
   "cell_type": "code",
   "execution_count": 5,
   "id": "181cb2f2-482b-4f34-80fe-f34134025c06",
   "metadata": {},
   "outputs": [
    {
     "data": {
      "text/plain": [
       "0.987037037037037"
      ]
     },
     "execution_count": 5,
     "metadata": {},
     "output_type": "execute_result"
    }
   ],
   "source": [
    "get_score(SVC(), X_train, X_test, y_train, y_test)"
   ]
  },
  {
   "cell_type": "markdown",
   "id": "d39f32c6-1182-4772-86e2-646c33541cf0",
   "metadata": {},
   "source": [
    "<h3>Random Forest train-test-split score</h3>"
   ]
  },
  {
   "cell_type": "code",
   "execution_count": 6,
   "id": "60b5d08d-898e-4843-b215-cbd78d532add",
   "metadata": {},
   "outputs": [
    {
     "data": {
      "text/plain": [
       "0.9722222222222222"
      ]
     },
     "execution_count": 6,
     "metadata": {},
     "output_type": "execute_result"
    }
   ],
   "source": [
    "get_score(RandomForestClassifier(), X_train, X_test, y_train, y_test)"
   ]
  },
  {
   "cell_type": "markdown",
   "id": "84d9e6bf-e4f3-45f0-a5c7-a52daeb46214",
   "metadata": {},
   "source": [
    "<h2>KFold cross validation</h2>"
   ]
  },
  {
   "cell_type": "code",
   "execution_count": 8,
   "id": "ac76d6ad-eb49-48ab-a87f-748e7a765f51",
   "metadata": {},
   "outputs": [
    {
     "data": {
      "text/plain": [
       "KFold(n_splits=3, random_state=None, shuffle=False)"
      ]
     },
     "execution_count": 8,
     "metadata": {},
     "output_type": "execute_result"
    }
   ],
   "source": [
    "from sklearn.model_selection import KFold\n",
    "kf = KFold(n_splits=3)\n",
    "kf"
   ]
  },
  {
   "cell_type": "code",
   "execution_count": 10,
   "id": "ac8c0dd3-10bd-4f98-850c-afd74771c476",
   "metadata": {},
   "outputs": [
    {
     "name": "stdout",
     "output_type": "stream",
     "text": [
      "[3 4 5 6 7 8] [0 1 2]\n",
      "[0 1 2 6 7 8] [3 4 5]\n",
      "[0 1 2 3 4 5] [6 7 8]\n"
     ]
    }
   ],
   "source": [
    "for train_index, test_index in kf.split([1, 2, 3, 4, 5, 6, 7, 8, 9]):\n",
    "    print(train_index, test_index)"
   ]
  },
  {
   "cell_type": "markdown",
   "id": "9c146093-cfd7-47f1-b858-24ef96fb1830",
   "metadata": {},
   "source": [
    "<h4>Basic Example</h4>"
   ]
  },
  {
   "cell_type": "code",
   "execution_count": 10,
   "id": "129bfd72-3d73-4bd0-ba51-ba529cd98f94",
   "metadata": {},
   "outputs": [
    {
     "name": "stdout",
     "output_type": "stream",
     "text": [
      "[3 4 5 6 7 8] [0 1 2]\n",
      "[0 1 2 6 7 8] [3 4 5]\n",
      "[0 1 2 3 4 5] [6 7 8]\n"
     ]
    }
   ],
   "source": [
    "for train_index, test_index in kf.split([1, 2, 3, 4, 5, 6, 7, 8, 9]):\n",
    "    print(train_index, test_index)"
   ]
  },
  {
   "cell_type": "markdown",
   "id": "018b956f-76d8-41cc-a156-3459e5ca0e01",
   "metadata": {},
   "source": [
    "<h4>Stratified K-Fold on digits data set</h4>"
   ]
  },
  {
   "cell_type": "code",
   "execution_count": 41,
   "id": "f00bc770-bad6-4247-9c10-08e356573071",
   "metadata": {},
   "outputs": [],
   "source": [
    "from sklearn.model_selection import StratifiedKFold\n",
    "skf = StratifiedKFold(n_splits=3)\n",
    "\n",
    "scores_logistic = []\n",
    "scores_svm = []\n",
    "scores_rf = []\n",
    "\n",
    "for train_index, test_index in skf.split(digits.data, digits.target):\n",
    "    X_train, X_test = digits.data[train_index], digits.data[test_index]\n",
    "    y_train, y_test = digits.target[train_index], digits.target[test_index]\n",
    "\n",
    "    scores_logistic.append(get_score(LogisticRegression(solver='liblinear', multi_class='ovr'), X_train, X_test, y_train, y_test))\n",
    "    scores_svm.append(get_score(SVC(), X_train, X_test, y_train, y_test))\n",
    "    scores_rf.append(get_score(RandomForestClassifier(), X_train, X_test, y_train, y_test))\n"
   ]
  },
  {
   "cell_type": "code",
   "execution_count": 33,
   "id": "046b1d6d-f57e-4ff3-b83d-ec20a756777d",
   "metadata": {},
   "outputs": [
    {
     "data": {
      "text/plain": [
       "[0.9215358931552587, 0.9415692821368948, 0.9165275459098498]"
      ]
     },
     "execution_count": 33,
     "metadata": {},
     "output_type": "execute_result"
    }
   ],
   "source": [
    "scores_logistic"
   ]
  },
  {
   "cell_type": "code",
   "execution_count": 34,
   "id": "a65bfca8-0665-4e0b-b930-b29ac221a1ff",
   "metadata": {},
   "outputs": [
    {
     "data": {
      "text/plain": [
       "[0.9649415692821369, 0.9799666110183639, 0.9649415692821369]"
      ]
     },
     "execution_count": 34,
     "metadata": {},
     "output_type": "execute_result"
    }
   ],
   "source": [
    "scores_svm"
   ]
  },
  {
   "cell_type": "code",
   "execution_count": 35,
   "id": "0962cd43-2cea-446a-bfed-68b00a4312db",
   "metadata": {},
   "outputs": [
    {
     "data": {
      "text/plain": [
       "[0.9432387312186978, 0.9599332220367279, 0.9265442404006677]"
      ]
     },
     "execution_count": 35,
     "metadata": {},
     "output_type": "execute_result"
    }
   ],
   "source": [
    "scores_rf"
   ]
  },
  {
   "cell_type": "markdown",
   "id": "8f0fa658-eacf-4b4c-9c76-8ee67a0a909d",
   "metadata": {},
   "source": [
    "<h2>cross_val_score function</h2> "
   ]
  },
  {
   "cell_type": "markdown",
   "id": "c126ac6b-e0fc-4127-a78a-f0d126f01ba0",
   "metadata": {},
   "source": [
    "<p>cross_val_score uses stratified Kfold by default</p>"
   ]
  },
  {
   "cell_type": "code",
   "execution_count": 36,
   "id": "9064c601-4fc2-45e0-a45f-50641aaaaa61",
   "metadata": {},
   "outputs": [],
   "source": [
    "from sklearn.model_selection import cross_val_score"
   ]
  },
  {
   "cell_type": "markdown",
   "id": "a999e1a5-b82e-4be0-b94a-fb863a400b17",
   "metadata": {},
   "source": [
    "<h4>Logistic regression model performance using cross_val_score</h4>"
   ]
  },
  {
   "cell_type": "code",
   "execution_count": 39,
   "id": "fa7f0bac-585f-45ef-ade6-706d0e8d112a",
   "metadata": {},
   "outputs": [
    {
     "data": {
      "text/plain": [
       "array([0.89482471, 0.95325543, 0.90984975])"
      ]
     },
     "execution_count": 39,
     "metadata": {},
     "output_type": "execute_result"
    }
   ],
   "source": [
    "cross_val_score(LogisticRegression(solver='liblinear', multi_class='ovr'), digits.data, digits.target, cv=3)"
   ]
  },
  {
   "cell_type": "markdown",
   "id": "a8cd2b86-cefa-48e8-9566-3e739b9ec38a",
   "metadata": {},
   "source": [
    "<h4>svm model performance using cross_val_score</h4>"
   ]
  },
  {
   "cell_type": "code",
   "execution_count": 44,
   "id": "4a81f79b-817a-4649-a808-40dc8504d7bc",
   "metadata": {},
   "outputs": [
    {
     "data": {
      "text/plain": [
       "array([0.96494157, 0.97996661, 0.96494157])"
      ]
     },
     "execution_count": 44,
     "metadata": {},
     "output_type": "execute_result"
    }
   ],
   "source": [
    "cross_val_score(SVC(), digits.data, digits.target, cv=3)"
   ]
  },
  {
   "cell_type": "markdown",
   "id": "5939a19d-08c2-4edb-a29b-16ff9197169d",
   "metadata": {},
   "source": [
    "<h4>Random forest model performance using cross_val_score</h4>"
   ]
  },
  {
   "cell_type": "code",
   "execution_count": 53,
   "id": "c6f4fbc6-8700-45b9-8db4-00f8a1ad3f7b",
   "metadata": {},
   "outputs": [
    {
     "data": {
      "text/plain": [
       "array([0.91986644, 0.94156928, 0.92153589])"
      ]
     },
     "execution_count": 53,
     "metadata": {},
     "output_type": "execute_result"
    }
   ],
   "source": [
    "cross_val_score(RandomForestClassifier(n_estimators=40), digits.data, digits.target, cv=3)"
   ]
  },
  {
   "cell_type": "markdown",
   "id": "751253a3-9b72-437d-9c97-3732dd55bb65",
   "metadata": {},
   "source": [
    "<h2>Parameter tuning using K fold cross validation</h2> "
   ]
  },
  {
   "cell_type": "code",
   "execution_count": 58,
   "id": "2c2c1339-25ff-4d4b-8ccf-61afef7a649d",
   "metadata": {},
   "outputs": [
    {
     "data": {
      "text/plain": [
       "0.8692644320297951"
      ]
     },
     "execution_count": 58,
     "metadata": {},
     "output_type": "execute_result"
    }
   ],
   "source": [
    "scores1 = cross_val_score(RandomForestClassifier(n_estimators=5), digits.data, digits.target, cv=10)\n",
    "np.average(scores1)"
   ]
  },
  {
   "cell_type": "code",
   "execution_count": 59,
   "id": "d981b146-eff0-4109-8bda-e897d34e4b9c",
   "metadata": {},
   "outputs": [
    {
     "data": {
      "text/plain": [
       "0.9398851644941029"
      ]
     },
     "execution_count": 59,
     "metadata": {},
     "output_type": "execute_result"
    }
   ],
   "source": [
    "scores2 = cross_val_score(RandomForestClassifier(n_estimators=20), digits.data, digits.target, cv=10)\n",
    "np.average(scores2)"
   ]
  },
  {
   "cell_type": "code",
   "execution_count": 60,
   "id": "8b7edcbc-950a-4126-9ee1-12d8f8531942",
   "metadata": {},
   "outputs": [
    {
     "data": {
      "text/plain": [
       "0.9393234016139044"
      ]
     },
     "execution_count": 60,
     "metadata": {},
     "output_type": "execute_result"
    }
   ],
   "source": [
    "scores3 = cross_val_score(RandomForestClassifier(n_estimators=30), digits.data, digits.target, cv=10)\n",
    "np.average(scores3)"
   ]
  },
  {
   "cell_type": "code",
   "execution_count": 61,
   "id": "595ef27a-6c05-423b-ada1-ab46efbfe560",
   "metadata": {},
   "outputs": [
    {
     "data": {
      "text/plain": [
       "0.9443420235878335"
      ]
     },
     "execution_count": 61,
     "metadata": {},
     "output_type": "execute_result"
    }
   ],
   "source": [
    "scores4 = cross_val_score(RandomForestClassifier(n_estimators=40), digits.data, digits.target, cv=10)\n",
    "np.average(scores4)"
   ]
  },
  {
   "cell_type": "code",
   "execution_count": 62,
   "id": "54e84eaa-4163-49b8-8ff5-e26f1e9b0633",
   "metadata": {},
   "outputs": [
    {
     "data": {
      "text/plain": [
       "0.9437926753569211"
      ]
     },
     "execution_count": 62,
     "metadata": {},
     "output_type": "execute_result"
    }
   ],
   "source": [
    "scores5 = cross_val_score(RandomForestClassifier(n_estimators=40), digits.data, digits.target, cv=10)\n",
    "np.average(scores5)"
   ]
  },
  {
   "cell_type": "code",
   "execution_count": null,
   "id": "c8a51469-e5eb-45f4-b190-c26947c52460",
   "metadata": {},
   "outputs": [],
   "source": []
  }
 ],
 "metadata": {
  "kernelspec": {
   "display_name": "Python 3 (ipykernel)",
   "language": "python",
   "name": "python3"
  },
  "language_info": {
   "codemirror_mode": {
    "name": "ipython",
    "version": 3
   },
   "file_extension": ".py",
   "mimetype": "text/x-python",
   "name": "python",
   "nbconvert_exporter": "python",
   "pygments_lexer": "ipython3",
   "version": "3.12.1"
  }
 },
 "nbformat": 4,
 "nbformat_minor": 5
}
