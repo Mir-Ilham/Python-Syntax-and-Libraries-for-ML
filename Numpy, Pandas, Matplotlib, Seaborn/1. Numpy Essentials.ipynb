{
 "cells": [
  {
   "cell_type": "markdown",
   "id": "cefa86c7-2970-44e1-820c-9ab46a511493",
   "metadata": {},
   "source": [
    "# Numpy Essentials"
   ]
  },
  {
   "cell_type": "markdown",
   "id": "56ad0a26-cf88-461f-9ba1-418791deb5e0",
   "metadata": {},
   "source": [
    "- NumPy is a general-purpose array-processing package. It provides a high-performance multidimensional array object, and tools for working with these arrays. It is the fundamental package for scientific computing in Python."
   ]
  },
  {
   "cell_type": "code",
   "execution_count": 1,
   "id": "5b78c326-ab84-4e29-a0ed-b063803f1fa1",
   "metadata": {},
   "outputs": [],
   "source": [
    "import numpy as np"
   ]
  },
  {
   "cell_type": "markdown",
   "id": "d793db98-6d8e-4b1b-bf8c-14f04c32e2af",
   "metadata": {},
   "source": [
    "## 1D Arrays"
   ]
  },
  {
   "cell_type": "code",
   "execution_count": 2,
   "id": "7b53454e-99a6-4a97-b74d-3155b5b0e806",
   "metadata": {},
   "outputs": [
    {
     "data": {
      "text/plain": [
       "array([1, 2, 3, 4, 5])"
      ]
     },
     "execution_count": 2,
     "metadata": {},
     "output_type": "execute_result"
    }
   ],
   "source": [
    "my_list = [1, 2, 3, 4, 5]\n",
    "\n",
    "arr = np.array(my_list)\n",
    "arr"
   ]
  },
  {
   "cell_type": "code",
   "execution_count": 3,
   "id": "ba900683-1976-4f18-8e9b-e99971edada8",
   "metadata": {},
   "outputs": [
    {
     "data": {
      "text/plain": [
       "numpy.ndarray"
      ]
     },
     "execution_count": 3,
     "metadata": {},
     "output_type": "execute_result"
    }
   ],
   "source": [
    "type(arr)"
   ]
  },
  {
   "cell_type": "code",
   "execution_count": 4,
   "id": "9e0b9843-372c-46bc-8592-3432dc6cc7e6",
   "metadata": {},
   "outputs": [
    {
     "data": {
      "text/plain": [
       "(5,)"
      ]
     },
     "execution_count": 4,
     "metadata": {},
     "output_type": "execute_result"
    }
   ],
   "source": [
    "arr.shape"
   ]
  },
  {
   "cell_type": "markdown",
   "id": "adbd2e10-a505-444b-9339-2593f320ad89",
   "metadata": {},
   "source": [
    "## 2D Arrays"
   ]
  },
  {
   "cell_type": "code",
   "execution_count": 5,
   "id": "124ebf33-c85c-492f-83d8-16bfbf17550b",
   "metadata": {},
   "outputs": [
    {
     "data": {
      "text/plain": [
       "array([[1, 2, 3, 4, 5],\n",
       "       [6, 7, 8, 9, 1],\n",
       "       [2, 3, 4, 5, 9]])"
      ]
     },
     "execution_count": 5,
     "metadata": {},
     "output_type": "execute_result"
    }
   ],
   "source": [
    "list1 = [1, 2, 3, 4, 5]\n",
    "list2 = [6, 7, 8, 9, 1]\n",
    "list3 = [2, 3, 4, 5, 9]\n",
    "\n",
    "arr = np.array([list1, list2, list3])\n",
    "arr"
   ]
  },
  {
   "cell_type": "code",
   "execution_count": 6,
   "id": "af4256e2-de84-4481-b565-46123f32ca3d",
   "metadata": {},
   "outputs": [
    {
     "data": {
      "text/plain": [
       "(3, 5)"
      ]
     },
     "execution_count": 6,
     "metadata": {},
     "output_type": "execute_result"
    }
   ],
   "source": [
    "arr.shape"
   ]
  },
  {
   "cell_type": "markdown",
   "id": "c07d270c-8355-4e13-bb83-179ce09968fb",
   "metadata": {},
   "source": [
    "## Array Re-Shaping"
   ]
  },
  {
   "cell_type": "code",
   "execution_count": 8,
   "id": "d543e556-3c7d-456c-b015-31fa62088ec2",
   "metadata": {},
   "outputs": [
    {
     "data": {
      "text/plain": [
       "array([[1, 2, 3],\n",
       "       [4, 5, 6],\n",
       "       [7, 8, 9],\n",
       "       [1, 2, 3],\n",
       "       [4, 5, 9]])"
      ]
     },
     "execution_count": 8,
     "metadata": {},
     "output_type": "execute_result"
    }
   ],
   "source": [
    "arr.reshape(5, 3)"
   ]
  },
  {
   "cell_type": "code",
   "execution_count": 13,
   "id": "6e6df17c-0652-4c1b-95b0-34860a8ff532",
   "metadata": {},
   "outputs": [
    {
     "data": {
      "text/plain": [
       "(3, 5)"
      ]
     },
     "execution_count": 13,
     "metadata": {},
     "output_type": "execute_result"
    }
   ],
   "source": [
    "arr.shape"
   ]
  },
  {
   "cell_type": "markdown",
   "id": "846d3eac-f600-4c73-8a31-c719ecf4dcb0",
   "metadata": {},
   "source": [
    "## Indexing"
   ]
  },
  {
   "cell_type": "code",
   "execution_count": 14,
   "id": "2bc2aa5a-723e-4ece-a5bf-4446229a3843",
   "metadata": {},
   "outputs": [
    {
     "data": {
      "text/plain": [
       "array([1, 2, 3, 4, 5, 6])"
      ]
     },
     "execution_count": 14,
     "metadata": {},
     "output_type": "execute_result"
    }
   ],
   "source": [
    "arr = np.array([1, 2, 3, 4, 5, 6])\n",
    "arr"
   ]
  },
  {
   "cell_type": "code",
   "execution_count": 15,
   "id": "5197b404-8414-4256-b3df-a8e8341be61b",
   "metadata": {},
   "outputs": [
    {
     "data": {
      "text/plain": [
       "1"
      ]
     },
     "execution_count": 15,
     "metadata": {},
     "output_type": "execute_result"
    }
   ],
   "source": [
    "arr[0]"
   ]
  },
  {
   "cell_type": "code",
   "execution_count": 16,
   "id": "c03fd7ca-ffc7-4f17-88bc-dd74d47f732f",
   "metadata": {},
   "outputs": [
    {
     "data": {
      "text/plain": [
       "array([1, 2, 3])"
      ]
     },
     "execution_count": 16,
     "metadata": {},
     "output_type": "execute_result"
    }
   ],
   "source": [
    "arr[0:3]"
   ]
  },
  {
   "cell_type": "code",
   "execution_count": 17,
   "id": "ba5faf81-0b26-4021-b2fb-8d676dbecdd8",
   "metadata": {},
   "outputs": [
    {
     "data": {
      "text/plain": [
       "array([[1, 2, 3, 4, 5],\n",
       "       [6, 7, 8, 9, 1],\n",
       "       [2, 3, 4, 5, 9]])"
      ]
     },
     "execution_count": 17,
     "metadata": {},
     "output_type": "execute_result"
    }
   ],
   "source": [
    "arr = np.array([list1, list2, list3])\n",
    "arr"
   ]
  },
  {
   "cell_type": "code",
   "execution_count": 21,
   "id": "fad5415a-d8cb-46ae-8901-3e171bba99e4",
   "metadata": {},
   "outputs": [
    {
     "data": {
      "text/plain": [
       "array([[7, 8, 9],\n",
       "       [3, 4, 5]])"
      ]
     },
     "execution_count": 21,
     "metadata": {},
     "output_type": "execute_result"
    }
   ],
   "source": [
    "arr[1:3, 1:4]"
   ]
  },
  {
   "cell_type": "markdown",
   "id": "aa1f496d-d639-49f6-b901-fbe98deca10f",
   "metadata": {},
   "source": [
    "## 1 Line operations"
   ]
  },
  {
   "cell_type": "code",
   "execution_count": 22,
   "id": "7857f72d-1666-43e6-acfb-5375dcf30be6",
   "metadata": {},
   "outputs": [
    {
     "data": {
      "text/plain": [
       "array([1, 2, 3, 4, 5, 6])"
      ]
     },
     "execution_count": 22,
     "metadata": {},
     "output_type": "execute_result"
    }
   ],
   "source": [
    "arr = np.array([1, 2, 3, 4, 5, 6])\n",
    "arr"
   ]
  },
  {
   "cell_type": "code",
   "execution_count": 23,
   "id": "8c43ea84-526d-4c23-afb7-6ecea6ef5a28",
   "metadata": {},
   "outputs": [
    {
     "data": {
      "text/plain": [
       "array([ True,  True,  True,  True,  True, False])"
      ]
     },
     "execution_count": 23,
     "metadata": {},
     "output_type": "execute_result"
    }
   ],
   "source": [
    "arr < 6"
   ]
  },
  {
   "cell_type": "code",
   "execution_count": 24,
   "id": "d04ab251-ad8e-4022-becf-244d42954f99",
   "metadata": {},
   "outputs": [
    {
     "data": {
      "text/plain": [
       "array([ 2,  4,  6,  8, 10, 12])"
      ]
     },
     "execution_count": 24,
     "metadata": {},
     "output_type": "execute_result"
    }
   ],
   "source": [
    "arr * 2"
   ]
  },
  {
   "cell_type": "code",
   "execution_count": 25,
   "id": "406c5978-995d-4324-9a9f-c297eb3e1a99",
   "metadata": {},
   "outputs": [
    {
     "data": {
      "text/plain": [
       "array([0.5, 1. , 1.5, 2. , 2.5, 3. ])"
      ]
     },
     "execution_count": 25,
     "metadata": {},
     "output_type": "execute_result"
    }
   ],
   "source": [
    "arr / 2"
   ]
  },
  {
   "cell_type": "markdown",
   "id": "f1f4923d-346c-4c0d-911f-07984469638a",
   "metadata": {},
   "source": [
    "## Conditional Filtering"
   ]
  },
  {
   "cell_type": "code",
   "execution_count": 27,
   "id": "f440d21c-ce88-494a-931b-89f81cb05f20",
   "metadata": {},
   "outputs": [
    {
     "data": {
      "text/plain": [
       "array([1, 2, 3, 4])"
      ]
     },
     "execution_count": 27,
     "metadata": {},
     "output_type": "execute_result"
    }
   ],
   "source": [
    "arr[arr < 5]"
   ]
  },
  {
   "cell_type": "code",
   "execution_count": 28,
   "id": "cf61b18f-65fd-46fd-8a32-bee36f3ff113",
   "metadata": {},
   "outputs": [
    {
     "data": {
      "text/plain": [
       "array([4, 5, 6])"
      ]
     },
     "execution_count": 28,
     "metadata": {},
     "output_type": "execute_result"
    }
   ],
   "source": [
    "arr[arr > 3]"
   ]
  },
  {
   "cell_type": "markdown",
   "id": "29a54c31-b665-4834-bcf5-0b61483f3485",
   "metadata": {},
   "source": [
    "## Pre-Initialization"
   ]
  },
  {
   "cell_type": "code",
   "execution_count": 29,
   "id": "e02e58de-926f-49a7-b08a-36ec8bdc32c5",
   "metadata": {},
   "outputs": [
    {
     "data": {
      "text/plain": [
       "array([[0, 1],\n",
       "       [2, 3],\n",
       "       [4, 5],\n",
       "       [6, 7],\n",
       "       [8, 9]])"
      ]
     },
     "execution_count": 29,
     "metadata": {},
     "output_type": "execute_result"
    }
   ],
   "source": [
    "np.arange(0, 10).reshape(5, 2)"
   ]
  },
  {
   "cell_type": "code",
   "execution_count": 34,
   "id": "6ff96753-66e9-4119-b078-ae8cdbe2888f",
   "metadata": {},
   "outputs": [
    {
     "data": {
      "text/plain": [
       "array([1, 1, 1, 1])"
      ]
     },
     "execution_count": 34,
     "metadata": {},
     "output_type": "execute_result"
    }
   ],
   "source": [
    "np.ones(4, dtype=int)"
   ]
  },
  {
   "cell_type": "code",
   "execution_count": 37,
   "id": "1bb0a159-7a10-4d99-b61f-60fbd22a8cda",
   "metadata": {},
   "outputs": [
    {
     "data": {
      "text/plain": [
       "array([[1, 1],\n",
       "       [1, 1],\n",
       "       [1, 1],\n",
       "       [1, 1]])"
      ]
     },
     "execution_count": 37,
     "metadata": {},
     "output_type": "execute_result"
    }
   ],
   "source": [
    "np.ones((4, 2), dtype=int)"
   ]
  },
  {
   "cell_type": "code",
   "execution_count": 36,
   "id": "dec98ad5-3426-4809-987d-a89750a3f46f",
   "metadata": {},
   "outputs": [
    {
     "data": {
      "text/plain": [
       "array([[0.61692703, 0.52583466, 0.33384396],\n",
       "       [0.9739623 , 0.56737257, 0.824841  ],\n",
       "       [0.45919223, 0.85294902, 0.74829459]])"
      ]
     },
     "execution_count": 36,
     "metadata": {},
     "output_type": "execute_result"
    }
   ],
   "source": [
    "np.random.rand(3, 3)"
   ]
  },
  {
   "cell_type": "markdown",
   "id": "5e3078cf-6fb5-4941-8d25-e25bcfce90e8",
   "metadata": {},
   "source": [
    "## Random number generation"
   ]
  },
  {
   "cell_type": "code",
   "execution_count": 43,
   "id": "5d16c9a1-6421-441a-a584-9d6a5c62d554",
   "metadata": {},
   "outputs": [
    {
     "data": {
      "text/plain": [
       "array([13, 93, 75])"
      ]
     },
     "execution_count": 43,
     "metadata": {},
     "output_type": "execute_result"
    }
   ],
   "source": [
    "np.random.randint(0, 100, 3)"
   ]
  },
  {
   "cell_type": "code",
   "execution_count": 48,
   "id": "2130d986-a677-44c8-b0f3-b90eb83d1cf4",
   "metadata": {},
   "outputs": [
    {
     "data": {
      "text/plain": [
       "array([[0.89014342, 0.21673077, 0.6253118 ]])"
      ]
     },
     "execution_count": 48,
     "metadata": {},
     "output_type": "execute_result"
    }
   ],
   "source": [
    "np.random.random_sample((1, 3))"
   ]
  },
  {
   "cell_type": "code",
   "execution_count": null,
   "id": "58f027be-78b3-4dc9-9972-f1b871e31851",
   "metadata": {},
   "outputs": [],
   "source": []
  }
 ],
 "metadata": {
  "kernelspec": {
   "display_name": "Python 3 (ipykernel)",
   "language": "python",
   "name": "python3"
  },
  "language_info": {
   "codemirror_mode": {
    "name": "ipython",
    "version": 3
   },
   "file_extension": ".py",
   "mimetype": "text/x-python",
   "name": "python",
   "nbconvert_exporter": "python",
   "pygments_lexer": "ipython3",
   "version": "3.12.1"
  }
 },
 "nbformat": 4,
 "nbformat_minor": 5
}
