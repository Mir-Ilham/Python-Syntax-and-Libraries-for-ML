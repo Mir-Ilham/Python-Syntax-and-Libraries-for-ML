{
 "cells": [
  {
   "cell_type": "markdown",
   "id": "e68c1bb3-7706-423f-acd0-5a2ed3c30b05",
   "metadata": {},
   "source": [
    "# Python Object Oriented Programming"
   ]
  },
  {
   "cell_type": "markdown",
   "id": "61d5bad7-8275-4902-b43c-511c5e686793",
   "metadata": {},
   "source": [
    "### Classes, Objects, Variables and Methods"
   ]
  },
  {
   "cell_type": "code",
   "execution_count": 22,
   "id": "01a00911-f8bc-4eae-b6a6-d4cfd24a4cc2",
   "metadata": {},
   "outputs": [],
   "source": [
    "class Car:\n",
    "    # Constructor method\n",
    "    def __init__(self, windows, doors, engine_type):\n",
    "        self.windows = windows\n",
    "        self.doors = doors\n",
    "        self.engine_type = engine_type\n",
    "\n",
    "    def start(self):\n",
    "        print(f\"The {self.engine_type} car has started\")"
   ]
  },
  {
   "cell_type": "code",
   "execution_count": 23,
   "id": "87e6518a-44f2-4909-a3fd-60c4b983cb3a",
   "metadata": {},
   "outputs": [],
   "source": [
    "new_car = Car(4, 5, \"Petrol\")"
   ]
  },
  {
   "cell_type": "code",
   "execution_count": 24,
   "id": "a27d3378-5939-4698-9ce6-e4983750bd2d",
   "metadata": {},
   "outputs": [
    {
     "data": {
      "text/plain": [
       "4"
      ]
     },
     "execution_count": 24,
     "metadata": {},
     "output_type": "execute_result"
    }
   ],
   "source": [
    "new_car.windows"
   ]
  },
  {
   "cell_type": "code",
   "execution_count": 25,
   "id": "6adcaa33-d2ec-4db7-b471-3646d0eae435",
   "metadata": {},
   "outputs": [
    {
     "data": {
      "text/plain": [
       "5"
      ]
     },
     "execution_count": 25,
     "metadata": {},
     "output_type": "execute_result"
    }
   ],
   "source": [
    "new_car.doors"
   ]
  },
  {
   "cell_type": "code",
   "execution_count": 26,
   "id": "7731067e-971e-4be1-a725-3571ec95316e",
   "metadata": {},
   "outputs": [
    {
     "data": {
      "text/plain": [
       "'Petrol'"
      ]
     },
     "execution_count": 26,
     "metadata": {},
     "output_type": "execute_result"
    }
   ],
   "source": [
    "new_car.engine_type"
   ]
  },
  {
   "cell_type": "code",
   "execution_count": 27,
   "id": "dca34278-8094-45e8-811d-6442a4e76a72",
   "metadata": {},
   "outputs": [
    {
     "name": "stdout",
     "output_type": "stream",
     "text": [
      "The Petrol car has started\n"
     ]
    }
   ],
   "source": [
    "new_car.start()"
   ]
  },
  {
   "cell_type": "markdown",
   "id": "4ffb4783-4593-4086-afa1-800334d44495",
   "metadata": {},
   "source": [
    "### Public, Protected & Private Access Modifiers"
   ]
  },
  {
   "cell_type": "code",
   "execution_count": 17,
   "id": "71a08085-9c81-46c0-bca0-27e3df4fa479",
   "metadata": {},
   "outputs": [],
   "source": [
    "# All class variables are public by default\n",
    "class Car:\n",
    "    # Constructor method\n",
    "    def __init__(self, windows, doors, engineType, nameplate):\n",
    "        self.windows = windows\n",
    "        self.doors = doors\n",
    "        # Append an underscore to identifier for protected class variables\n",
    "        # Developer should only override this variable from a subclass\n",
    "        self._engineType = engineType\n",
    "        # Append double underscore to identifier for private class variables\n",
    "        self.__nameplate = nameplate\n",
    "\n",
    "    def getNamePlate(self):\n",
    "        print(self.__nameplate)\n",
    "        "
   ]
  },
  {
   "cell_type": "code",
   "execution_count": 20,
   "id": "daa3d4a2-aa1a-4757-ab50-1c30f8a63f96",
   "metadata": {},
   "outputs": [
    {
     "data": {
      "text/plain": [
       "['_Car__nameplate',\n",
       " '__class__',\n",
       " '__delattr__',\n",
       " '__dict__',\n",
       " '__dir__',\n",
       " '__doc__',\n",
       " '__eq__',\n",
       " '__format__',\n",
       " '__ge__',\n",
       " '__getattribute__',\n",
       " '__getstate__',\n",
       " '__gt__',\n",
       " '__hash__',\n",
       " '__init__',\n",
       " '__init_subclass__',\n",
       " '__le__',\n",
       " '__lt__',\n",
       " '__module__',\n",
       " '__ne__',\n",
       " '__new__',\n",
       " '__reduce__',\n",
       " '__reduce_ex__',\n",
       " '__repr__',\n",
       " '__setattr__',\n",
       " '__sizeof__',\n",
       " '__str__',\n",
       " '__subclasshook__',\n",
       " '__weakref__',\n",
       " '_engineType',\n",
       " 'doors',\n",
       " 'getNamePlate',\n",
       " 'windows']"
      ]
     },
     "execution_count": 20,
     "metadata": {},
     "output_type": "execute_result"
    }
   ],
   "source": [
    "new_car = Car(4, 5, 'Petrol', 420)\n",
    "dir(new_car)"
   ]
  },
  {
   "cell_type": "code",
   "execution_count": 21,
   "id": "bc9aeb40-4cc2-43dd-90d2-4b90af42ad3c",
   "metadata": {},
   "outputs": [
    {
     "name": "stdout",
     "output_type": "stream",
     "text": [
      "420\n"
     ]
    }
   ],
   "source": [
    "new_car.getNamePlate()"
   ]
  },
  {
   "cell_type": "markdown",
   "id": "b7b7574a-4023-4651-b086-1bf3c6feaa34",
   "metadata": {},
   "source": [
    "### Inheritance"
   ]
  },
  {
   "cell_type": "code",
   "execution_count": 23,
   "id": "d9f314b1-bf6d-47a8-8e2c-1dfd725cbb66",
   "metadata": {},
   "outputs": [],
   "source": [
    "# Car Blueprint\n",
    "\n",
    "class Car:\n",
    "    # Constructor method\n",
    "    def __init__(self, windows, doors, engine_type):\n",
    "        self.windows = windows\n",
    "        self.doors = doors\n",
    "        self.engine_type = engine_type\n",
    "\n",
    "    def start(self):\n",
    "        print(f\"The {self.engine_type} car has started\")"
   ]
  },
  {
   "cell_type": "code",
   "execution_count": 24,
   "id": "e5eb0b5c-994d-4577-90c5-8a8ebe1d304f",
   "metadata": {},
   "outputs": [],
   "source": [
    "car = Car(4, 5, \"Diesel\")"
   ]
  },
  {
   "cell_type": "code",
   "execution_count": 25,
   "id": "0d95d32e-e14b-4406-a253-a4030c548158",
   "metadata": {},
   "outputs": [
    {
     "data": {
      "text/plain": [
       "4"
      ]
     },
     "execution_count": 25,
     "metadata": {},
     "output_type": "execute_result"
    }
   ],
   "source": [
    "car.windows"
   ]
  },
  {
   "cell_type": "code",
   "execution_count": 26,
   "id": "dc7c57a6-41e0-45ba-9e94-9c73a1653091",
   "metadata": {},
   "outputs": [],
   "source": [
    "class SportsCar(Car):\n",
    "    def __init__(self, windows, doors, engine_type, spoiler_type):\n",
    "        super().__init__(windows, doors, engine_type)\n",
    "        self.spoiler_type = spoiler_type\n",
    "\n",
    "    def accelerate(self):\n",
    "        print(\"Vroom Vroom\")"
   ]
  },
  {
   "cell_type": "code",
   "execution_count": 27,
   "id": "bb4d7a4e-4e4f-4c04-8187-d263e6d3fcc6",
   "metadata": {},
   "outputs": [],
   "source": [
    "audi = SportsCar(3, 2, \"Diesel\", \"Aero Dynamic\")"
   ]
  },
  {
   "cell_type": "code",
   "execution_count": 29,
   "id": "868bae7e-3089-437d-b883-9a04575de737",
   "metadata": {},
   "outputs": [
    {
     "data": {
      "text/plain": [
       "['accelerate', 'doors', 'engine_type', 'spoiler_type', 'start', 'windows']"
      ]
     },
     "execution_count": 29,
     "metadata": {},
     "output_type": "execute_result"
    }
   ],
   "source": [
    "dir(audi)[-6:]"
   ]
  },
  {
   "cell_type": "code",
   "execution_count": 30,
   "id": "8ed8a001-4d12-4a86-82bd-f16eadd2e1b9",
   "metadata": {},
   "outputs": [
    {
     "name": "stdout",
     "output_type": "stream",
     "text": [
      "The Diesel car has started\n"
     ]
    }
   ],
   "source": [
    "audi.start()"
   ]
  },
  {
   "cell_type": "code",
   "execution_count": null,
   "id": "cc366a13-b9ae-43de-ba65-5d739cc5f4d4",
   "metadata": {},
   "outputs": [],
   "source": []
  }
 ],
 "metadata": {
  "kernelspec": {
   "display_name": "Python 3 (ipykernel)",
   "language": "python",
   "name": "python3"
  },
  "language_info": {
   "codemirror_mode": {
    "name": "ipython",
    "version": 3
   },
   "file_extension": ".py",
   "mimetype": "text/x-python",
   "name": "python",
   "nbconvert_exporter": "python",
   "pygments_lexer": "ipython3",
   "version": "3.12.1"
  }
 },
 "nbformat": 4,
 "nbformat_minor": 5
}
