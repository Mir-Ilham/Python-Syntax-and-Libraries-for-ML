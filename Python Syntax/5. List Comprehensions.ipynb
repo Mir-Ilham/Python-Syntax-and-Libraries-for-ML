{
 "cells": [
  {
   "cell_type": "markdown",
   "id": "0e9e8145-d0a8-444f-8e4c-0ff2a8ea8ad0",
   "metadata": {},
   "source": [
    "# List Comprehension\n",
    "\n",
    "List comprehension provide a concise way to create lists. It consists of brackets containing an expression followed by a for clause, then zero or more for or if clauses."
   ]
  },
  {
   "cell_type": "code",
   "execution_count": 4,
   "id": "74d30c2e-efd5-450b-b658-8deb76abb8bf",
   "metadata": {},
   "outputs": [
    {
     "data": {
      "text/plain": [
       "[1, 4, 9, 16, 25, 36, 49, 64, 81]"
      ]
     },
     "execution_count": 4,
     "metadata": {},
     "output_type": "execute_result"
    }
   ],
   "source": [
    "original = [1, 2, 3, 4, 5, 6, 7, 8, 9]\n",
    "\n",
    "[i*i for i in original]"
   ]
  },
  {
   "cell_type": "code",
   "execution_count": 5,
   "id": "5743bbe2-3ab8-4665-9fe0-794a106313c6",
   "metadata": {},
   "outputs": [
    {
     "data": {
      "text/plain": [
       "[4, 16, 36, 64]"
      ]
     },
     "execution_count": 5,
     "metadata": {},
     "output_type": "execute_result"
    }
   ],
   "source": [
    "[i*i for i in original if i%2 == 0]"
   ]
  },
  {
   "cell_type": "code",
   "execution_count": null,
   "id": "1875ef9d-4ddc-49c0-b687-7384edef60c5",
   "metadata": {},
   "outputs": [],
   "source": []
  }
 ],
 "metadata": {
  "kernelspec": {
   "display_name": "Python 3 (ipykernel)",
   "language": "python",
   "name": "python3"
  },
  "language_info": {
   "codemirror_mode": {
    "name": "ipython",
    "version": 3
   },
   "file_extension": ".py",
   "mimetype": "text/x-python",
   "name": "python",
   "nbconvert_exporter": "python",
   "pygments_lexer": "ipython3",
   "version": "3.12.1"
  }
 },
 "nbformat": 4,
 "nbformat_minor": 5
}
