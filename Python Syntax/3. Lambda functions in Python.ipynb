{
 "cells": [
  {
   "cell_type": "markdown",
   "id": "f5edff77-b2c2-42f9-9d7e-6cdfce6e953c",
   "metadata": {},
   "source": [
    "# Lambda functions\n",
    "\n",
    "Anonymous function, without an identifier"
   ]
  },
  {
   "cell_type": "code",
   "execution_count": 1,
   "id": "5285bfbb-9cdf-485a-b38b-eb42d6b11430",
   "metadata": {},
   "outputs": [],
   "source": [
    "adder = lambda x, y, z: x + y + z"
   ]
  },
  {
   "cell_type": "code",
   "execution_count": 2,
   "id": "d3dcbe11-3e13-4158-8481-b1e9526c0c57",
   "metadata": {},
   "outputs": [
    {
     "data": {
      "text/plain": [
       "6"
      ]
     },
     "execution_count": 2,
     "metadata": {},
     "output_type": "execute_result"
    }
   ],
   "source": [
    "adder(1, 2, 3)"
   ]
  },
  {
   "cell_type": "code",
   "execution_count": null,
   "id": "15aad5ad-b3cb-4942-a60b-5a3e67f8af38",
   "metadata": {},
   "outputs": [],
   "source": []
  }
 ],
 "metadata": {
  "kernelspec": {
   "display_name": "Python 3 (ipykernel)",
   "language": "python",
   "name": "python3"
  },
  "language_info": {
   "codemirror_mode": {
    "name": "ipython",
    "version": 3
   },
   "file_extension": ".py",
   "mimetype": "text/x-python",
   "name": "python",
   "nbconvert_exporter": "python",
   "pygments_lexer": "ipython3",
   "version": "3.12.1"
  }
 },
 "nbformat": 4,
 "nbformat_minor": 5
}
