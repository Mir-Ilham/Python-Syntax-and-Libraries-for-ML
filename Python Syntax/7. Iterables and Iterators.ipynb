{
 "cells": [
  {
   "cell_type": "markdown",
   "id": "59b7199a-8c9c-4dd3-9026-474461711df6",
   "metadata": {},
   "source": [
    "# Python iterables vs iterators"
   ]
  },
  {
   "cell_type": "code",
   "execution_count": 1,
   "id": "270f87fb-e0c6-4969-a82c-7e096c5d166b",
   "metadata": {},
   "outputs": [
    {
     "name": "stdout",
     "output_type": "stream",
     "text": [
      "1 2 3 4 5 6 7 "
     ]
    }
   ],
   "source": [
    "# List is Iterable\n",
    "\n",
    "lst = [1, 2, 3, 4, 5, 6, 7]\n",
    "for i in lst:\n",
    "    print(i, end=' ')"
   ]
  },
  {
   "cell_type": "code",
   "execution_count": 19,
   "id": "02d8a31c-feff-48db-8832-c9d13ef05afa",
   "metadata": {},
   "outputs": [],
   "source": [
    "# Iterator\n",
    "\n",
    "itr = iter(lst)"
   ]
  },
  {
   "cell_type": "code",
   "execution_count": 20,
   "id": "5cbca191-4ad2-47f3-93fd-1ed1375d9f3d",
   "metadata": {},
   "outputs": [
    {
     "data": {
      "text/plain": [
       "<list_iterator at 0x1930f4a88b0>"
      ]
     },
     "execution_count": 20,
     "metadata": {},
     "output_type": "execute_result"
    }
   ],
   "source": [
    "itr"
   ]
  },
  {
   "cell_type": "code",
   "execution_count": 21,
   "id": "ee3ac87f-2e1e-4f65-8fdc-c8d48c5d58a8",
   "metadata": {},
   "outputs": [
    {
     "data": {
      "text/plain": [
       "1"
      ]
     },
     "execution_count": 21,
     "metadata": {},
     "output_type": "execute_result"
    }
   ],
   "source": [
    "next(itr)"
   ]
  },
  {
   "cell_type": "code",
   "execution_count": null,
   "id": "b697d218-27fc-4536-8605-c7084bf11d3d",
   "metadata": {},
   "outputs": [],
   "source": []
  }
 ],
 "metadata": {
  "kernelspec": {
   "display_name": "Python 3 (ipykernel)",
   "language": "python",
   "name": "python3"
  },
  "language_info": {
   "codemirror_mode": {
    "name": "ipython",
    "version": 3
   },
   "file_extension": ".py",
   "mimetype": "text/x-python",
   "name": "python",
   "nbconvert_exporter": "python",
   "pygments_lexer": "ipython3",
   "version": "3.12.1"
  }
 },
 "nbformat": 4,
 "nbformat_minor": 5
}
