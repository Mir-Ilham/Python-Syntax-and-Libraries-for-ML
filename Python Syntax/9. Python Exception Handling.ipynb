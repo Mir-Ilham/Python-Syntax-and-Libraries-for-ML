{
 "cells": [
  {
   "cell_type": "markdown",
   "id": "1fbb0f89-fa2a-4c15-9dba-3b6ade2387c0",
   "metadata": {},
   "source": [
    "# Python Exception Handling"
   ]
  },
  {
   "cell_type": "markdown",
   "id": "7c23b2fd-75d0-4a54-be03-0332d68b66f2",
   "metadata": {},
   "source": [
    "### Try-Except blocks"
   ]
  },
  {
   "cell_type": "code",
   "execution_count": 14,
   "id": "aa6064b1-6f82-4f70-b6f6-0b5b7550541b",
   "metadata": {},
   "outputs": [
    {
     "name": "stdout",
     "output_type": "stream",
     "text": [
      "The user has not defined the variable\n",
      "End of execution\n"
     ]
    }
   ],
   "source": [
    "try:\n",
    "    # Code block where exception can occur\n",
    "    a = b\n",
    "except NameError as ex1:\n",
    "    # Exception handling for specific exception types\n",
    "    print(\"The user has not defined the variable\")\n",
    "except Exception as ex:\n",
    "    # Generic exception handling\n",
    "    print(ex)\n",
    "else:\n",
    "    # Code block if no exception occurs\n",
    "    print(\"Executed without exceptions\")\n",
    "finally:\n",
    "    # Code block that will run regardless of exception occurrence or otherwise\n",
    "    print(\"End of execution\")"
   ]
  },
  {
   "cell_type": "markdown",
   "id": "7b73ed70-376b-4a3d-aa93-9c9a31cb6578",
   "metadata": {},
   "source": [
    "### Custom Exception Handling"
   ]
  },
  {
   "cell_type": "code",
   "execution_count": 18,
   "id": "ea42489c-1d90-4fb3-a98c-388bd3ec1def",
   "metadata": {},
   "outputs": [],
   "source": [
    "class CustomException(Exception):\n",
    "    pass\n",
    "\n",
    "class dobException(CustomError):\n",
    "    pass"
   ]
  },
  {
   "cell_type": "code",
   "execution_count": 23,
   "id": "4f814e96-a717-400a-a715-e32cd414123d",
   "metadata": {},
   "outputs": [
    {
     "name": "stdin",
     "output_type": "stream",
     "text": [
      "Enter the year of Birth 1970\n"
     ]
    },
    {
     "name": "stdout",
     "output_type": "stream",
     "text": [
      "The year age is not valid\n"
     ]
    }
   ],
   "source": [
    "year = int(input(\"Enter the year of Birth\"))\n",
    "age = 2025 - year\n",
    "\n",
    "try:\n",
    "    if 20 <= age and age <= 30:\n",
    "        print(\"Valid\")\n",
    "    else:\n",
    "        raise dobException\n",
    "except dobException:\n",
    "    print(\"The year age is not valid\")"
   ]
  },
  {
   "cell_type": "code",
   "execution_count": null,
   "id": "f6db4064-a5e8-4fef-9e9e-6c04b6b5ec24",
   "metadata": {},
   "outputs": [],
   "source": []
  }
 ],
 "metadata": {
  "kernelspec": {
   "display_name": "Python 3 (ipykernel)",
   "language": "python",
   "name": "python3"
  },
  "language_info": {
   "codemirror_mode": {
    "name": "ipython",
    "version": 3
   },
   "file_extension": ".py",
   "mimetype": "text/x-python",
   "name": "python",
   "nbconvert_exporter": "python",
   "pygments_lexer": "ipython3",
   "version": "3.12.1"
  }
 },
 "nbformat": 4,
 "nbformat_minor": 5
}
