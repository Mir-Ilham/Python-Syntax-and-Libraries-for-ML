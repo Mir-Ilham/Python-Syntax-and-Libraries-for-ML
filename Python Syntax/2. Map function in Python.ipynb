{
 "cells": [
  {
   "cell_type": "markdown",
   "id": "5050e785-0c32-49f3-8181-bf25428e091b",
   "metadata": {},
   "source": [
    "# Map function in Python"
   ]
  },
  {
   "cell_type": "code",
   "execution_count": 1,
   "id": "232d94a7-8d47-4aaf-9bf9-c146814e8cc6",
   "metadata": {},
   "outputs": [],
   "source": [
    "arr = [1, 2, 3, 4, 5, 6, 7, 8, 9, 24, 56, 78]"
   ]
  },
  {
   "cell_type": "code",
   "execution_count": 2,
   "id": "0b6ed435-48a3-4bf4-8ca9-84cb6012ee14",
   "metadata": {},
   "outputs": [],
   "source": [
    "def parity(num):\n",
    "    return num % 2"
   ]
  },
  {
   "cell_type": "code",
   "execution_count": 3,
   "id": "ea8509a9-4fb0-42e4-82db-d3984f98eef8",
   "metadata": {},
   "outputs": [
    {
     "data": {
      "text/plain": [
       "[1, 0, 1, 0, 1, 0, 1, 0, 1, 0, 0, 0]"
      ]
     },
     "execution_count": 3,
     "metadata": {},
     "output_type": "execute_result"
    }
   ],
   "source": [
    "list(map(parity, arr))"
   ]
  },
  {
   "cell_type": "code",
   "execution_count": null,
   "id": "ef2633d6-a4c5-4971-8e02-51ba1854fd9e",
   "metadata": {},
   "outputs": [],
   "source": []
  }
 ],
 "metadata": {
  "kernelspec": {
   "display_name": "Python 3 (ipykernel)",
   "language": "python",
   "name": "python3"
  },
  "language_info": {
   "codemirror_mode": {
    "name": "ipython",
    "version": 3
   },
   "file_extension": ".py",
   "mimetype": "text/x-python",
   "name": "python",
   "nbconvert_exporter": "python",
   "pygments_lexer": "ipython3",
   "version": "3.12.1"
  }
 },
 "nbformat": 4,
 "nbformat_minor": 5
}
