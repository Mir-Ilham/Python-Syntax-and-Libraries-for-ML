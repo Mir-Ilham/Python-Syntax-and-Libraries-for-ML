{
 "cells": [
  {
   "cell_type": "markdown",
   "id": "524ed91e-1477-4e2d-8a70-7cd6e85db41b",
   "metadata": {},
   "source": [
    "# String formatting in Python"
   ]
  },
  {
   "cell_type": "markdown",
   "id": "2c828556-f461-4b45-8518-cba8eec62b58",
   "metadata": {},
   "source": [
    "### .format"
   ]
  },
  {
   "cell_type": "code",
   "execution_count": 3,
   "id": "abc7e570-28ae-4849-b9cf-bdd808163397",
   "metadata": {},
   "outputs": [
    {
     "data": {
      "text/plain": [
       "'Summer of 69'"
      ]
     },
     "execution_count": 3,
     "metadata": {},
     "output_type": "execute_result"
    }
   ],
   "source": [
    "\"Summer of {}\".format(69)"
   ]
  },
  {
   "cell_type": "code",
   "execution_count": 4,
   "id": "75665661-0236-4a03-877e-b96c5eb5807b",
   "metadata": {},
   "outputs": [
    {
     "data": {
      "text/plain": [
       "'Summer of 25'"
      ]
     },
     "execution_count": 4,
     "metadata": {},
     "output_type": "execute_result"
    }
   ],
   "source": [
    "\"Summer of {year}\".format(year=25)"
   ]
  },
  {
   "cell_type": "markdown",
   "id": "7886f0fc-e46f-4087-bf86-edb959817b02",
   "metadata": {},
   "source": [
    "### format strings"
   ]
  },
  {
   "cell_type": "code",
   "execution_count": 2,
   "id": "c38145ce-f65b-41ba-9258-c970260275a2",
   "metadata": {},
   "outputs": [
    {
     "data": {
      "text/plain": [
       "'Summer of 69'"
      ]
     },
     "execution_count": 2,
     "metadata": {},
     "output_type": "execute_result"
    }
   ],
   "source": [
    "f\"Summer of {69}\""
   ]
  },
  {
   "cell_type": "code",
   "execution_count": null,
   "id": "88b5e703-2963-4a4b-9218-ed01d93f314a",
   "metadata": {},
   "outputs": [],
   "source": []
  }
 ],
 "metadata": {
  "kernelspec": {
   "display_name": "Python 3 (ipykernel)",
   "language": "python",
   "name": "python3"
  },
  "language_info": {
   "codemirror_mode": {
    "name": "ipython",
    "version": 3
   },
   "file_extension": ".py",
   "mimetype": "text/x-python",
   "name": "python",
   "nbconvert_exporter": "python",
   "pygments_lexer": "ipython3",
   "version": "3.12.1"
  }
 },
 "nbformat": 4,
 "nbformat_minor": 5
}
