{
 "cells": [
  {
   "cell_type": "markdown",
   "id": "e770318f-e7f9-401f-9ac7-e8c77a03370d",
   "metadata": {},
   "source": [
    "# Python filter function"
   ]
  },
  {
   "cell_type": "code",
   "execution_count": 1,
   "id": "986f4a59-9564-4a14-86a3-6b37796299d9",
   "metadata": {},
   "outputs": [],
   "source": [
    "def isEven(num):\n",
    "    if num % 2 == 0:\n",
    "        return True\n",
    "    return False"
   ]
  },
  {
   "cell_type": "code",
   "execution_count": 2,
   "id": "aa30d9a1-78df-4581-a68a-a5545ba4e627",
   "metadata": {},
   "outputs": [],
   "source": [
    "lst = [1, 2, 3, 4, 5, 6, 7, 8, 9, 0]"
   ]
  },
  {
   "cell_type": "code",
   "execution_count": 4,
   "id": "270e7850-d094-48c9-9aa8-e58e999d0da1",
   "metadata": {},
   "outputs": [
    {
     "data": {
      "text/plain": [
       "[2, 4, 6, 8, 0]"
      ]
     },
     "execution_count": 4,
     "metadata": {},
     "output_type": "execute_result"
    }
   ],
   "source": [
    "list(filter(isEven, lst))"
   ]
  },
  {
   "cell_type": "code",
   "execution_count": 6,
   "id": "6e66bc5c-3e90-4418-bfd3-f2968583b16e",
   "metadata": {},
   "outputs": [
    {
     "data": {
      "text/plain": [
       "[2, 4, 6, 8, 0]"
      ]
     },
     "execution_count": 6,
     "metadata": {},
     "output_type": "execute_result"
    }
   ],
   "source": [
    "list(filter(lambda num : num % 2 == 0, lst))"
   ]
  },
  {
   "cell_type": "code",
   "execution_count": null,
   "id": "9ec1d69e-e654-419a-b031-957d14dc6351",
   "metadata": {},
   "outputs": [],
   "source": []
  }
 ],
 "metadata": {
  "kernelspec": {
   "display_name": "Python 3 (ipykernel)",
   "language": "python",
   "name": "python3"
  },
  "language_info": {
   "codemirror_mode": {
    "name": "ipython",
    "version": 3
   },
   "file_extension": ".py",
   "mimetype": "text/x-python",
   "name": "python",
   "nbconvert_exporter": "python",
   "pygments_lexer": "ipython3",
   "version": "3.12.1"
  }
 },
 "nbformat": 4,
 "nbformat_minor": 5
}
